{
 "cells": [
  {
   "cell_type": "code",
   "execution_count": 16,
   "metadata": {},
   "outputs": [
    {
     "name": "stdout",
     "output_type": "stream",
     "text": [
      "Enter the city or country you want to analyze: london\n"
     ]
    }
   ],
   "source": [
    "#to get the city or country\n",
    "\n",
    "val = input('Enter the city or country you want to analyze: ')"
   ]
  },
  {
   "cell_type": "code",
   "execution_count": 27,
   "metadata": {
    "scrolled": true
   },
   "outputs": [],
   "source": [
    "#retrieves the political news articles from the news api\n",
    "\n",
    "from newsapi import NewsApiClient\n",
    "\n",
    "newsapi = NewsApiClient(api_key='3d9b2341d48c4f28bbf4c34e10e0521e')\n",
    "\n",
    "#this is for the keywords. This ensures that only political news are collected\n",
    "x = ' AND (politics OR government OR public affairs OR state affairs OR diplomacy OR party OR parliament or minister OR law)'\n",
    "\n",
    "all_articles = newsapi.get_everything(q= val + x,\n",
    "                                      sources='bbc-news, abc-news, al-jazeera-english, ary-news, cbs-news, cnbc, cnn, fox-news, google-news, independent, msnbc, nbc-news, news24, new-york-magazine, politico, reuters, the-hindu, the-new-york-times, the-washington-post',\n",
    "                                      from_param='2019-04-22',\n",
    "                                      to='2019-05-30',\n",
    "                                      language='en',\n",
    "                                      page=5)"
   ]
  },
  {
   "cell_type": "code",
   "execution_count": 28,
   "metadata": {},
   "outputs": [
    {
     "data": {
      "text/html": [
       "<div>\n",
       "<style scoped>\n",
       "    .dataframe tbody tr th:only-of-type {\n",
       "        vertical-align: middle;\n",
       "    }\n",
       "\n",
       "    .dataframe tbody tr th {\n",
       "        vertical-align: top;\n",
       "    }\n",
       "\n",
       "    .dataframe thead th {\n",
       "        text-align: right;\n",
       "    }\n",
       "</style>\n",
       "<table border=\"1\" class=\"dataframe\">\n",
       "  <thead>\n",
       "    <tr style=\"text-align: right;\">\n",
       "      <th></th>\n",
       "      <th>status</th>\n",
       "      <th>totalResults</th>\n",
       "      <th>source</th>\n",
       "      <th>author</th>\n",
       "      <th>title</th>\n",
       "      <th>description</th>\n",
       "      <th>url</th>\n",
       "      <th>urlToImage</th>\n",
       "      <th>publishedAt</th>\n",
       "      <th>content</th>\n",
       "    </tr>\n",
       "  </thead>\n",
       "  <tbody>\n",
       "    <tr>\n",
       "      <th>0</th>\n",
       "      <td>ok</td>\n",
       "      <td>2769</td>\n",
       "      <td>{'id': 'cnn', 'name': 'CNN'}</td>\n",
       "      <td>Alexander Urbelis</td>\n",
       "      <td>What the Mueller report tells us about Assange...</td>\n",
       "      <td>One week after WikiLeaks founder Julian Assang...</td>\n",
       "      <td>https://www.cnn.com/2019/04/27/opinions/what-t...</td>\n",
       "      <td>https://cdn.cnn.com/cnnnext/dam/assets/1904111...</td>\n",
       "      <td>2019-04-27T23:11:39Z</td>\n",
       "      <td>Alexander J. Urbelis is a lawyer and self-desc...</td>\n",
       "    </tr>\n",
       "    <tr>\n",
       "      <th>1</th>\n",
       "      <td>ok</td>\n",
       "      <td>2769</td>\n",
       "      <td>{'id': 'bbc-news', 'name': 'BBC News'}</td>\n",
       "      <td>https://www.facebook.com/bbcnews</td>\n",
       "      <td>London Marathon: How do you reduce the environ...</td>\n",
       "      <td>The London race aims to reduce waste with pape...</td>\n",
       "      <td>https://www.bbc.co.uk/news/science-environment...</td>\n",
       "      <td>https://ichef.bbci.co.uk/news/1024/branded_new...</td>\n",
       "      <td>2019-04-26T11:33:40Z</td>\n",
       "      <td>Image copyrightGetty ImagesImage caption\\r\\n T...</td>\n",
       "    </tr>\n",
       "    <tr>\n",
       "      <th>2</th>\n",
       "      <td>ok</td>\n",
       "      <td>2769</td>\n",
       "      <td>{'id': 'reuters', 'name': 'Reuters'}</td>\n",
       "      <td>Alastair Macdonald</td>\n",
       "      <td>Game on for EU vote, but real fight comes after</td>\n",
       "      <td>On posters, hustings and social media, a battl...</td>\n",
       "      <td>https://www.reuters.com/article/us-eu-election...</td>\n",
       "      <td>https://s2.reutersmedia.net/resources/r/?m=02&amp;...</td>\n",
       "      <td>2019-04-30T13:40:13Z</td>\n",
       "      <td>BRUSSELS (Reuters) - On posters, hustings and ...</td>\n",
       "    </tr>\n",
       "    <tr>\n",
       "      <th>3</th>\n",
       "      <td>ok</td>\n",
       "      <td>2769</td>\n",
       "      <td>{'id': 'abc-news', 'name': 'ABC News'}</td>\n",
       "      <td>Guy Davies</td>\n",
       "      <td>Pompeo's trips 'dreaded' by European allies as...</td>\n",
       "      <td>Get breaking national and world news, broadcas...</td>\n",
       "      <td>https://abcnews.go.com/International/secretary...</td>\n",
       "      <td>https://s.abcnews.com/images/International/pom...</td>\n",
       "      <td>2019-05-13T17:32:16Z</td>\n",
       "      <td>Secretary of State Mike Pompeos trip overseas ...</td>\n",
       "    </tr>\n",
       "    <tr>\n",
       "      <th>4</th>\n",
       "      <td>ok</td>\n",
       "      <td>2769</td>\n",
       "      <td>{'id': 'the-new-york-times', 'name': 'The New ...</td>\n",
       "      <td>GISELA WILLIAMS</td>\n",
       "      <td>As Rents Rise, Artists Are Reviving the Idea o...</td>\n",
       "      <td>From London to Berlin, five collectives embrac...</td>\n",
       "      <td>https://www.nytimes.com/2019/04/25/t-magazine/...</td>\n",
       "      <td>https://static01.nyt.com/images/2019/04/24/t-m...</td>\n",
       "      <td>2019-04-25T20:57:36Z</td>\n",
       "      <td>Starting in the Middle Ages, when craft guilds...</td>\n",
       "    </tr>\n",
       "  </tbody>\n",
       "</table>\n",
       "</div>"
      ],
      "text/plain": [
       "  status  totalResults                                             source  \\\n",
       "0     ok          2769                       {'id': 'cnn', 'name': 'CNN'}   \n",
       "1     ok          2769             {'id': 'bbc-news', 'name': 'BBC News'}   \n",
       "2     ok          2769               {'id': 'reuters', 'name': 'Reuters'}   \n",
       "3     ok          2769             {'id': 'abc-news', 'name': 'ABC News'}   \n",
       "4     ok          2769  {'id': 'the-new-york-times', 'name': 'The New ...   \n",
       "\n",
       "                             author  \\\n",
       "0                 Alexander Urbelis   \n",
       "1  https://www.facebook.com/bbcnews   \n",
       "2                Alastair Macdonald   \n",
       "3                        Guy Davies   \n",
       "4                   GISELA WILLIAMS   \n",
       "\n",
       "                                               title  \\\n",
       "0  What the Mueller report tells us about Assange...   \n",
       "1  London Marathon: How do you reduce the environ...   \n",
       "2    Game on for EU vote, but real fight comes after   \n",
       "3  Pompeo's trips 'dreaded' by European allies as...   \n",
       "4  As Rents Rise, Artists Are Reviving the Idea o...   \n",
       "\n",
       "                                         description  \\\n",
       "0  One week after WikiLeaks founder Julian Assang...   \n",
       "1  The London race aims to reduce waste with pape...   \n",
       "2  On posters, hustings and social media, a battl...   \n",
       "3  Get breaking national and world news, broadcas...   \n",
       "4  From London to Berlin, five collectives embrac...   \n",
       "\n",
       "                                                 url  \\\n",
       "0  https://www.cnn.com/2019/04/27/opinions/what-t...   \n",
       "1  https://www.bbc.co.uk/news/science-environment...   \n",
       "2  https://www.reuters.com/article/us-eu-election...   \n",
       "3  https://abcnews.go.com/International/secretary...   \n",
       "4  https://www.nytimes.com/2019/04/25/t-magazine/...   \n",
       "\n",
       "                                          urlToImage           publishedAt  \\\n",
       "0  https://cdn.cnn.com/cnnnext/dam/assets/1904111...  2019-04-27T23:11:39Z   \n",
       "1  https://ichef.bbci.co.uk/news/1024/branded_new...  2019-04-26T11:33:40Z   \n",
       "2  https://s2.reutersmedia.net/resources/r/?m=02&...  2019-04-30T13:40:13Z   \n",
       "3  https://s.abcnews.com/images/International/pom...  2019-05-13T17:32:16Z   \n",
       "4  https://static01.nyt.com/images/2019/04/24/t-m...  2019-04-25T20:57:36Z   \n",
       "\n",
       "                                             content  \n",
       "0  Alexander J. Urbelis is a lawyer and self-desc...  \n",
       "1  Image copyrightGetty ImagesImage caption\\r\\n T...  \n",
       "2  BRUSSELS (Reuters) - On posters, hustings and ...  \n",
       "3  Secretary of State Mike Pompeos trip overseas ...  \n",
       "4  Starting in the Middle Ages, when craft guilds...  "
      ]
     },
     "execution_count": 28,
     "metadata": {},
     "output_type": "execute_result"
    }
   ],
   "source": [
    "#to convert the json format into dataframe\n",
    "\n",
    "import pandas as pd\n",
    "\n",
    "all_articles = pd.DataFrame.from_dict(all_articles)\n",
    "all_articles = pd.concat([all_articles.drop(['articles'], axis=1), all_articles['articles'].apply(pd.Series)], axis=1)\n",
    "all_articles.head()"
   ]
  },
  {
   "cell_type": "code",
   "execution_count": 29,
   "metadata": {},
   "outputs": [],
   "source": [
    "delimiter = ' '\n",
    "df = all_articles.groupby('title')['content'].apply(lambda x: \"%s\" % delimiter.join(x)).reset_index()"
   ]
  },
  {
   "cell_type": "code",
   "execution_count": 30,
   "metadata": {},
   "outputs": [],
   "source": [
    "#sentiment analysis using vader\n",
    "\n",
    "from vaderSentiment.vaderSentiment import SentimentIntensityAnalyzer\n",
    "\n",
    "analyser = SentimentIntensityAnalyzer()\n",
    "\n",
    "for row in df.itertuples():\n",
    "    text = df.iloc[:, 1].tolist()\n",
    "    contents = \" \".join(str(x) for x in text)\n",
    "    score = analyser.polarity_scores(contents)"
   ]
  },
  {
   "cell_type": "code",
   "execution_count": 31,
   "metadata": {},
   "outputs": [
    {
     "name": "stdout",
     "output_type": "stream",
     "text": [
      "{'neg': 0.069, 'neu': 0.819, 'pos': 0.112, 'compound': 0.9917}\n"
     ]
    }
   ],
   "source": [
    "print(score)"
   ]
  },
  {
   "cell_type": "code",
   "execution_count": 33,
   "metadata": {},
   "outputs": [
    {
     "name": "stdout",
     "output_type": "stream",
     "text": [
      "{'neg': 0.069, 'pos': 0.112}\n"
     ]
    }
   ],
   "source": [
    "result={}\n",
    "result['neg'] = score['neg']\n",
    "result['pos'] = score['pos']\n",
    "\n",
    "print(result)"
   ]
  },
  {
   "cell_type": "code",
   "execution_count": 34,
   "metadata": {},
   "outputs": [
    {
     "name": "stdout",
     "output_type": "stream",
     "text": [
      "pos\n",
      "0.112\n"
     ]
    }
   ],
   "source": [
    "print(max(result, key=result.get))\n",
    "print(score[max(result, key=result.get)])"
   ]
  }
 ],
 "metadata": {
  "kernelspec": {
   "display_name": "Python 3",
   "language": "python",
   "name": "python3"
  },
  "language_info": {
   "codemirror_mode": {
    "name": "ipython",
    "version": 3
   },
   "file_extension": ".py",
   "mimetype": "text/x-python",
   "name": "python",
   "nbconvert_exporter": "python",
   "pygments_lexer": "ipython3",
   "version": "3.7.3"
  }
 },
 "nbformat": 4,
 "nbformat_minor": 2
}
